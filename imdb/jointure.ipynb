{
 "cells": [
  {
   "cell_type": "code",
   "execution_count": 60,
   "id": "5d58e4f5",
   "metadata": {},
   "outputs": [],
   "source": [
    "import pandas as pd\n",
    "import numpy as np"
   ]
  },
  {
   "cell_type": "code",
   "execution_count": 61,
   "id": "8407aafc",
   "metadata": {},
   "outputs": [],
   "source": [
    "df_allocine_full = pd.read_json(\"allocine_full_movies.json\")\n",
    "df_jpbox_full = pd.read_json(\"jpbox_full_data_with_allocine_names.json\")"
   ]
  },
  {
   "cell_type": "code",
   "execution_count": 62,
   "id": "0e17d46f",
   "metadata": {},
   "outputs": [
    {
     "data": {
      "text/plain": [
       "Index(['allocine_fr_title', 'allocine_original_title', 'allocine_url',\n",
       "       'allocine_released_date', 'allocine_released_year', 'allocine_duration',\n",
       "       'allocine_categories', 'allocine_writer', 'allocine_director',\n",
       "       'allocine_casting', 'allocine_press_note', 'allocine_synopsis',\n",
       "       'allocine_classification', 'allocine_countries',\n",
       "       'allocine_distribution', 'allocine_prod_year',\n",
       "       'allocine_total_entrances', 'allocine_box_office_week1',\n",
       "       'allocine_box_office_week2', 'allocine_societies',\n",
       "       'allocine_soundtrack'],\n",
       "      dtype='object')"
      ]
     },
     "execution_count": 62,
     "metadata": {},
     "output_type": "execute_result"
    }
   ],
   "source": [
    "df_allocine_full.shape\n",
    "df_allocine_full.rename(columns={\"allocine_release_date\" : \"allocine_released_date\"}, inplace=True)\n",
    "df_allocine_full.rename(columns={\"allocine_release_year\" : \"allocine_released_year\"}, inplace=True)\n",
    "df_allocine_full.columns"
   ]
  },
  {
   "cell_type": "code",
   "execution_count": 63,
   "id": "15dcfc22",
   "metadata": {},
   "outputs": [
    {
     "data": {
      "text/plain": [
       "Index(['jpbox_fr_title', 'jpbox_released_year', 'allocine_fr_title',\n",
       "       'allocine_released_year', 'jpbox_original_title', 'jpbox_actors',\n",
       "       'jpbox_producers', 'jpbox_authors', 'jpbox_compositors',\n",
       "       'jpbox_directors', 'jpbox_country', 'jpbox_category',\n",
       "       'jpbox_released_date', 'jpbox_classification', 'jpbox_duration',\n",
       "       'jpbox_total_entrances', 'jpbox_weekly_entrances',\n",
       "       'jpbox_incomes_total', 'jpbox_incomes_france', 'jpbox_budget',\n",
       "       'jpbox_url_movie', 'jpbox_synopsis'],\n",
       "      dtype='object')"
      ]
     },
     "execution_count": 63,
     "metadata": {},
     "output_type": "execute_result"
    }
   ],
   "source": [
    "df_jpbox_full.shape\n",
    "df_jpbox_full.columns"
   ]
  },
  {
   "cell_type": "code",
   "execution_count": 64,
   "id": "cf70d3f7",
   "metadata": {},
   "outputs": [],
   "source": [
    "joined_df = pd.merge(df_jpbox_full, df_allocine_full, how=\"left\", on=[\"allocine_fr_title\", \"allocine_released_year\"])"
   ]
  },
  {
   "cell_type": "code",
   "execution_count": 65,
   "id": "bde0f557",
   "metadata": {},
   "outputs": [
    {
     "data": {
      "text/plain": [
       "(7850, 41)"
      ]
     },
     "execution_count": 65,
     "metadata": {},
     "output_type": "execute_result"
    }
   ],
   "source": [
    "joined_df.isna().sum()\n",
    "joined_df.shape"
   ]
  },
  {
   "cell_type": "code",
   "execution_count": 68,
   "id": "1472539f",
   "metadata": {},
   "outputs": [
    {
     "data": {
      "text/plain": [
       "7850"
      ]
     },
     "execution_count": 68,
     "metadata": {},
     "output_type": "execute_result"
    }
   ],
   "source": [
    "import json\n",
    "\n",
    "joined_df.to_csv(\"joined_full_movies.csv\", index=False)\n",
    "\n",
    "records = joined_df.replace({np.nan: None}).to_dict(orient=\"records\")\n",
    "with open(\"joined_full_movies.json\", \"w\", encoding=\"utf-8\") as f:\n",
    "    f.write(\"[\\n\")\n",
    "    for i, record in enumerate(records):\n",
    "        json_str = json.dumps(record, ensure_ascii=False)\n",
    "        if i < len(records) - 1:\n",
    "            f.write(f\"    {json_str},\\n\")\n",
    "        else:\n",
    "            f.write(f\"    {json_str}\\n\")\n",
    "    f.write(\"]\\n\")\n",
    "    \n",
    "len(records)"
   ]
  },
  {
   "cell_type": "code",
   "execution_count": null,
   "id": "02705448",
   "metadata": {},
   "outputs": [],
   "source": []
  },
  {
   "cell_type": "code",
   "execution_count": null,
   "id": "542eda71",
   "metadata": {},
   "outputs": [],
   "source": []
  }
 ],
 "metadata": {
  "kernelspec": {
   "display_name": ".venv",
   "language": "python",
   "name": "python3"
  },
  "language_info": {
   "codemirror_mode": {
    "name": "ipython",
    "version": 3
   },
   "file_extension": ".py",
   "mimetype": "text/x-python",
   "name": "python",
   "nbconvert_exporter": "python",
   "pygments_lexer": "ipython3",
   "version": "3.11.2"
  }
 },
 "nbformat": 4,
 "nbformat_minor": 5
}
